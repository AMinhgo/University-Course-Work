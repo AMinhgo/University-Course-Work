{
 "cells": [
  {
   "cell_type": "code",
   "execution_count": 51,
   "metadata": {},
   "outputs": [
    {
     "name": "stdout",
     "output_type": "stream",
     "text": [
      "[3, 1, 4, -2]\n"
     ]
    }
   ],
   "source": [
    "# Create a list called \"a\"\n",
    "a = [3,1,4,-2]\n",
    "print(a)"
   ]
  },
  {
   "cell_type": "code",
   "execution_count": 52,
   "metadata": {},
   "outputs": [
    {
     "name": "stdout",
     "output_type": "stream",
     "text": [
      "[3, 1, 4, -2, 'new item']\n"
     ]
    }
   ],
   "source": [
    "# Insert an item at the end of a list\n",
    "a.append('new item')\n",
    "print(a)"
   ]
  },
  {
   "cell_type": "code",
   "execution_count": 53,
   "metadata": {},
   "outputs": [
    {
     "name": "stdout",
     "output_type": "stream",
     "text": [
      "[3, 1, 5, 4, -2, 'new item']\n"
     ]
    }
   ],
   "source": [
    "# Insert an item at a specifiec location\n",
    "a.insert(2,5)\n",
    "print(a)"
   ]
  },
  {
   "cell_type": "code",
   "execution_count": 46,
   "metadata": {},
   "outputs": [
    {
     "name": "stdout",
     "output_type": "stream",
     "text": [
      "[1, 2, 3, [5, 6]]\n"
     ]
    }
   ],
   "source": [
    "# Create a list inside a list\n",
    "b = [1,2,3]\n",
    "b.append([5,6])\n",
    "print(b)"
   ]
  },
  {
   "cell_type": "code",
   "execution_count": 54,
   "metadata": {},
   "outputs": [
    {
     "name": "stdout",
     "output_type": "stream",
     "text": [
      "[3, 7, 2, 8, 5]\n",
      "[3, 7, 2, 8]\n",
      "[3, 2, 8]\n"
     ]
    }
   ],
   "source": [
    "# Pop (delete) an item from the list\n",
    "c = [3,7,2,8,5]\n",
    "print(c)\n",
    "\n",
    "c.pop() # pop the last item and remove it from the list\n",
    "print(c)\n",
    "\n",
    "c.pop(1) # pop the item sitted on the specific point\n",
    "print(c)"
   ]
  },
  {
   "cell_type": "code",
   "execution_count": 60,
   "metadata": {},
   "outputs": [
    {
     "name": "stdout",
     "output_type": "stream",
     "text": [
      "[1, 2, 3, [5, 6]]\n",
      "2\n",
      "[5, 6]\n",
      "6\n"
     ]
    }
   ],
   "source": [
    "# Retrieve the specific item on the list\n",
    "print(b)\n",
    "print(b[1])\n",
    "print(b[3])\n",
    "print(b[3][1])"
   ]
  },
  {
   "cell_type": "code",
   "execution_count": 61,
   "metadata": {},
   "outputs": [
    {
     "name": "stdout",
     "output_type": "stream",
     "text": [
      "Before: ['Alpha', 'Beta']\n",
      "After: ['Beta', 'Alpha']\n"
     ]
    }
   ],
   "source": [
    "# Swap items in a list\n",
    "myList = [\"Alpha\", \"Beta\"]\n",
    "print(\"Before:\", myList)\n",
    "myList[0], myList[1] = myList[1], myList[0]\n",
    "print(\"After:\", myList)"
   ]
  },
  {
   "cell_type": "code",
   "execution_count": 78,
   "metadata": {},
   "outputs": [
    {
     "name": "stdout",
     "output_type": "stream",
     "text": [
      "[1, 2, 3, 4, 5]\n",
      "[1, 2, 3, 4, 5]\n"
     ]
    }
   ],
   "source": [
    "# Example of using list() and range()\n",
    "b = [1,2,3,4,5]\n",
    "print(b)\n",
    "c = list(range(1,6))\n",
    "print(c)"
   ]
  },
  {
   "cell_type": "code",
   "execution_count": 87,
   "metadata": {},
   "outputs": [
    {
     "name": "stdout",
     "output_type": "stream",
     "text": [
      "This is printed without a for-loop:\n",
      "1\n",
      "2\n",
      "3\n",
      "\n",
      "This is printed with a for-loop:\n",
      "1\n",
      "2\n",
      "3\n"
     ]
    }
   ],
   "source": [
    "# for-loop example\n",
    "a = [1,2,3]\n",
    "print(\"This is printed without a for-loop:\")\n",
    "print(a[0])\n",
    "print(a[1])\n",
    "print(a[2])\n",
    "\n",
    "print(\"\\nThis is printed with a for-loop:\")\n",
    "for x in [0,1,2]:\n",
    "    print(a[x])"
   ]
  },
  {
   "cell_type": "code",
   "execution_count": 99,
   "metadata": {},
   "outputs": [
    {
     "name": "stdout",
     "output_type": "stream",
     "text": [
      "This is printed with the elements only (x represents the item/element inside the list, directly):\n",
      "1\n",
      "2\n",
      "3\n",
      "\n",
      "The result is equal to print with a for-loop and a range function (mind the count of the index):\n",
      "1\n",
      "2\n",
      "3\n"
     ]
    }
   ],
   "source": [
    "# for-loop example\n",
    "a = [1,2,3]\n",
    "\n",
    "print(\"This is printed with the elements only (x represents the item/element inside the list, directly):\")\n",
    "for x in a:\n",
    "    print(x)\n",
    "\n",
    "print(\"\\nThe result is equal to print with a for-loop and a range function (mind the count of the index):\")\n",
    "for x in a:\n",
    "    print(a[(x-1)])"
   ]
  },
  {
   "cell_type": "code",
   "execution_count": 100,
   "metadata": {},
   "outputs": [
    {
     "name": "stdout",
     "output_type": "stream",
     "text": [
      "This is printed with a for-loop and a range function:\n",
      "range(3) is equal to range(0,3) and range(0,1,3)\n",
      "1\n",
      "2\n",
      "3\n",
      "\n",
      "This is printed with a for-loop and a range function with range() and len()\n",
      "1\n",
      "2\n",
      "3\n"
     ]
    }
   ],
   "source": [
    "# for-loop example\n",
    "a = [1,2,3]\n",
    "\n",
    "print(\"This is printed with a for-loop and a range function:\")\n",
    "print(\"range(3) is equal to range(0,3) and range(0,1,3)\")\n",
    "for x in range(3):\n",
    "    print(a[x])\n",
    "    \n",
    "print(\"\\nThis is printed with a for-loop and a range function with range() and len()\")\n",
    "for x in range(len(a)):\n",
    "    print(a[x])"
   ]
  },
  {
   "cell_type": "code",
   "execution_count": 105,
   "metadata": {},
   "outputs": [
    {
     "name": "stdout",
     "output_type": "stream",
     "text": [
      "[1, 2, 3, 4]\n",
      "10\n"
     ]
    }
   ],
   "source": [
    "# for-loop example: add sum\n",
    "a = list(range(1,5))\n",
    "print(a)\n",
    "\n",
    "total = 0\n",
    "for i in a:\n",
    "    total += i # This is equal to total = total + i\n",
    "print(total)"
   ]
  },
  {
   "cell_type": "code",
   "execution_count": null,
   "metadata": {},
   "outputs": [],
   "source": []
  }
 ],
 "metadata": {
  "kernelspec": {
   "display_name": "Python 3",
   "language": "python",
   "name": "python3"
  },
  "language_info": {
   "codemirror_mode": {
    "name": "ipython",
    "version": 3
   },
   "file_extension": ".py",
   "mimetype": "text/x-python",
   "name": "python",
   "nbconvert_exporter": "python",
   "pygments_lexer": "ipython3",
   "version": "3.7.4"
  }
 },
 "nbformat": 4,
 "nbformat_minor": 2
}
